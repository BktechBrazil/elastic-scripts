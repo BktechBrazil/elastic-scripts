{
 "cells": [
  {
   "cell_type": "code",
   "execution_count": 17,
   "metadata": {},
   "outputs": [
    {
     "name": "stdout",
     "output_type": "stream",
     "text": [
      "10\n",
      "Esse não é primo: 10\n",
      "Esse não é primo: 10\n"
     ]
    }
   ],
   "source": [
    "primes = []\n",
    "x = input()\n",
    "possiblePrime = int(x)\n",
    "isPrime = True\n",
    "for num in range(2, possiblePrime):\n",
    "    if possiblePrime % num == 0:\n",
    "        isPrime = False\n",
    "        print('Esse não é primo: ' + str(possiblePrime))\n",
    "if isPrime:\n",
    "    print('Esse é primo: ' + possiblePrime)"
   ]
  },
  {
   "cell_type": "code",
   "execution_count": 8,
   "metadata": {},
   "outputs": [
    {
     "data": {
      "text/plain": [
       "['2']"
      ]
     },
     "execution_count": 8,
     "metadata": {},
     "output_type": "execute_result"
    }
   ],
   "source": [
    "primes"
   ]
  }
 ],
 "metadata": {
  "kernelspec": {
   "display_name": "Python 3",
   "language": "python",
   "name": "python3"
  },
  "language_info": {
   "codemirror_mode": {
    "name": "ipython",
    "version": 3
   },
   "file_extension": ".py",
   "mimetype": "text/x-python",
   "name": "python",
   "nbconvert_exporter": "python",
   "pygments_lexer": "ipython3",
   "version": "3.6.8"
  }
 },
 "nbformat": 4,
 "nbformat_minor": 2
}
