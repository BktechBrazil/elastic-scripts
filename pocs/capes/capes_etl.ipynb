{
 "cells": [
  {
   "cell_type": "code",
   "execution_count": 2,
   "metadata": {},
   "outputs": [
    {
     "data": {
      "text/plain": [
       "['/home/tornis/temp/bktech_es/DOCUMENTOS_orig/grupo4.csv',\n",
       " '/home/tornis/temp/bktech_es/DOCUMENTOS_orig/grupo2.csv',\n",
       " '/home/tornis/temp/bktech_es/DOCUMENTOS_orig/grupo1.csv',\n",
       " '/home/tornis/temp/bktech_es/DOCUMENTOS_orig/grupo3.csv']"
      ]
     },
     "execution_count": 2,
     "metadata": {},
     "output_type": "execute_result"
    }
   ],
   "source": [
    "import glob\n",
    "import re\n",
    "files = (glob.glob(\"/home/tornis/temp/bktech_es/DOCUMENTOS_orig/*.csv\"))\n",
    "files"
   ]
  },
  {
   "cell_type": "code",
   "execution_count": 4,
   "metadata": {
    "scrolled": true
   },
   "outputs": [],
   "source": [
    "for cnt in range(len(files)):\n",
    "    with open(files[cnt],'rb') as f:\n",
    "        l = f.read().splitlines()\n",
    "        for x in range(len(l)):\n",
    "            nl = '{\"index\":{\"_index\":\"publicacao\",\"_id\":\"' + str(l[x][18:24].decode('latin-1')) + '\"}}'\n",
    "            z = str(l[x].decode('latin-1'))\n",
    "            concatline = nl + \"\\n\" + '{\"documento_arquivo\":{\"name\":\"id_documento\"},' + z[1:-1] + \"}\\n\"\n",
    "            with open(\"/home/tornis/temp/bktech_es/elastic/pocs/capes/bulk_pai.json\",\"a+\") as w:\n",
    "                w.write(concatline)"
   ]
  }
 ],
 "metadata": {
  "kernelspec": {
   "display_name": "Python 3",
   "language": "python",
   "name": "python3"
  },
  "language_info": {
   "codemirror_mode": {
    "name": "ipython",
    "version": 3
   },
   "file_extension": ".py",
   "mimetype": "text/x-python",
   "name": "python",
   "nbconvert_exporter": "python",
   "pygments_lexer": "ipython3",
   "version": "3.6.8"
  }
 },
 "nbformat": 4,
 "nbformat_minor": 2
}
