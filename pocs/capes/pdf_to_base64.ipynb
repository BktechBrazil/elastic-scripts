{
 "cells": [
  {
   "cell_type": "code",
   "execution_count": 33,
   "metadata": {},
   "outputs": [],
   "source": [
    "import glob\n",
    "import base64\n",
    "import re\n",
    "import os\n",
    "files = (glob.glob(\"/home/tornis/temp/bktech_es/DOCUMENTOS_orig/*.pdf\"))\n"
   ]
  },
  {
   "cell_type": "code",
   "execution_count": 32,
   "metadata": {},
   "outputs": [],
   "source": [
    "for cnt in range(len(files)):\n",
    "    with open(files[cnt],'rb') as f:\n",
    "        base = os.path.basename(f.name)\n",
    "        fname = os.path.splitext(base)[0]\n",
    "        pdf64 = str(base64.b64encode(f.read()))\n",
    "        nl = '{\"index\":{\"_index\":\"publicacao\",\"_id\":\"f' + fname + '\",\"routing\": \"' + fname + '\",\"pipeline\": \"attachment\"}}'\n",
    "        bulk = nl + \"\\n\" + '{\"nome_arquivo\": \"' + fname +'\",\"documento_arquivo\": {\"name\":\"id_arquivo\",\"parent\": \"' + fname + '\"},\"arquivo\":\"' + pdf64[2:-1] + '\"}\\n'\n",
    "        with open(\"/home/tornis/temp/bktech_es/elastic/pocs/capes/file_bulk.json\",\"a+\") as w:\n",
    "            w.write(bulk)"
   ]
  }
 ],
 "metadata": {
  "kernelspec": {
   "display_name": "Python 3",
   "language": "python",
   "name": "python3"
  },
  "language_info": {
   "codemirror_mode": {
    "name": "ipython",
    "version": 3
   },
   "file_extension": ".py",
   "mimetype": "text/x-python",
   "name": "python",
   "nbconvert_exporter": "python",
   "pygments_lexer": "ipython3",
   "version": "3.6.8"
  }
 },
 "nbformat": 4,
 "nbformat_minor": 2
}
